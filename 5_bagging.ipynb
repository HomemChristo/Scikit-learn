{
 "cells": [
  {
   "cell_type": "markdown",
   "metadata": {},
   "source": [
    "## Preparación de datos para implementar métodos de ensamble"
   ]
  },
  {
   "cell_type": "markdown",
   "metadata": {},
   "source": [
    "Importamos las bibliotecas generales"
   ]
  },
  {
   "cell_type": "code",
   "execution_count": 14,
   "metadata": {},
   "outputs": [],
   "source": [
    "import pandas as pd\n",
    "import warnings\n",
    "warnings.simplefilter(\"ignore\")\n",
    "\n",
    "from sklearn.neighbors import KNeighborsClassifier\n",
    "from sklearn.ensemble import BaggingClassifier"
   ]
  },
  {
   "cell_type": "markdown",
   "metadata": {},
   "source": [
    "Importamos los módulos específicos"
   ]
  },
  {
   "cell_type": "code",
   "execution_count": 2,
   "metadata": {},
   "outputs": [],
   "source": [
    "from sklearn.model_selection import train_test_split\n",
    "from sklearn.metrics import accuracy_score"
   ]
  },
  {
   "cell_type": "code",
   "execution_count": 16,
   "metadata": {},
   "outputs": [],
   "source": [
    "from sklearn.linear_model import LogisticRegression\n",
    "from sklearn.svm import SVC\n",
    "from sklearn.svm import LinearSVC\n",
    "from sklearn.linear_model import SGDClassifier\n",
    "from sklearn.tree import DecisionTreeClassifier\n",
    "from sklearn.ensemble import RandomForestClassifier\n",
    "from sklearn.ensemble import GradientBoostingClassifier"
   ]
  },
  {
   "cell_type": "markdown",
   "metadata": {},
   "source": [
    "Cargamos los datos del dataframe de pandas e imprimimos en pantalla la descripcion de la columna target"
   ]
  },
  {
   "cell_type": "code",
   "execution_count": 4,
   "metadata": {},
   "outputs": [
    {
     "name": "stdout",
     "output_type": "stream",
     "text": [
      "count    1025.000000\n",
      "mean        0.513171\n",
      "std         0.500070\n",
      "min         0.000000\n",
      "25%         0.000000\n",
      "50%         1.000000\n",
      "75%         1.000000\n",
      "max         1.000000\n",
      "Name: target, dtype: float64\n"
     ]
    }
   ],
   "source": [
    "dt_heart = pd.read_csv('./data/heart.csv' )\n",
    "print(dt_heart['target'].describe())"
   ]
  },
  {
   "cell_type": "markdown",
   "metadata": {},
   "source": [
    "Vamos a elegir los features que vamos a usar y definimos nuestro objetivo, que sera nuestro dataset, pero solo en la columna target"
   ]
  },
  {
   "cell_type": "code",
   "execution_count": 7,
   "metadata": {},
   "outputs": [],
   "source": [
    "#min 0, max 1\n",
    "X = dt_heart.drop(['target'], axis=1)\n",
    "y = dt_heart['target']"
   ]
  },
  {
   "cell_type": "markdown",
   "metadata": {},
   "source": [
    "Aquí vamos a partir nuestro entrenaminto en training y test, no hay olvidar el orden\n",
    "\n",
    "Con el test size elejimos nuestro porcetaje de datos para training "
   ]
  },
  {
   "cell_type": "code",
   "execution_count": 8,
   "metadata": {},
   "outputs": [],
   "source": [
    "#tamano de conjunto de prueba de 35%\n",
    "X_train, X_test, y_train, y_test = train_test_split(X, y, test_size=0.35)"
   ]
  },
  {
   "cell_type": "markdown",
   "metadata": {},
   "source": [
    "## Implementación de Bagging"
   ]
  },
  {
   "cell_type": "code",
   "execution_count": 9,
   "metadata": {},
   "outputs": [
    {
     "name": "stdout",
     "output_type": "stream",
     "text": [
      "================================================================\n",
      "SCORE con KNN:  0.7158774373259053\n"
     ]
    }
   ],
   "source": [
    "knn_class = KNeighborsClassifier().fit(X_train, y_train)\n",
    "knn_pred = knn_class.predict(X_test)\n",
    "print('='*64)\n",
    "print('SCORE con KNN: ', accuracy_score(knn_pred, y_test))"
   ]
  },
  {
   "cell_type": "markdown",
   "metadata": {},
   "source": [
    "base_estimator pide el estimador en el que va a estar basado nuestro metodo || n_estimators nos pide cuantos de estos modelos vamos a utilizar"
   ]
  },
  {
   "cell_type": "code",
   "execution_count": 10,
   "metadata": {},
   "outputs": [
    {
     "name": "stderr",
     "output_type": "stream",
     "text": [
      "c:\\Users\\Jhoan\\Documents\\Cursos\\Platzi\\Data Science\\Scikit-learn\\.venv\\Lib\\site-packages\\sklearn\\ensemble\\_base.py:156: FutureWarning: `base_estimator` was renamed to `estimator` in version 1.2 and will be removed in 1.4.\n",
      "  warnings.warn(\n"
     ]
    },
    {
     "name": "stdout",
     "output_type": "stream",
     "text": [
      "================================================================\n",
      "0.7771587743732591\n"
     ]
    }
   ],
   "source": [
    "bag_class = BaggingClassifier(base_estimator=KNeighborsClassifier(), n_estimators=50).fit(X_train, y_train) \n",
    "bag_pred = bag_class.predict(X_test)\n",
    "print('='*64)\n",
    "print(accuracy_score(bag_pred, y_test))"
   ]
  },
  {
   "cell_type": "code",
   "execution_count": 21,
   "metadata": {},
   "outputs": [],
   "source": [
    "estimators = {\n",
    "    'LogisticRegression' : LogisticRegression(),\n",
    "    'SVC' : SVC(),\n",
    "    'LinearSVC' : LinearSVC(),\n",
    "    'SGD' : SGDClassifier(loss=\"hinge\", penalty=\"l2\", max_iter=5),\n",
    "    'KNN' : KNeighborsClassifier(),\n",
    "    'DecisionTreeClf' : DecisionTreeClassifier(),\n",
    "    'RandomTreeForest' : RandomForestClassifier(random_state=0),\n",
    "    'GradientBoostingClassifier' : GradientBoostingClassifier()\n",
    "}"
   ]
  },
  {
   "cell_type": "code",
   "execution_count": 22,
   "metadata": {},
   "outputs": [
    {
     "name": "stdout",
     "output_type": "stream",
     "text": [
      "================================================================\n",
      "SCORE Bagging with LogisticRegression : 0.8746518105849582\n",
      "================================================================\n",
      "SCORE Bagging with SVC : 0.7103064066852368\n",
      "================================================================\n",
      "SCORE Bagging with LinearSVC : 0.8802228412256268\n",
      "================================================================\n",
      "SCORE Bagging with SGD : 0.6824512534818942\n",
      "================================================================\n",
      "SCORE Bagging with KNN : 0.7827298050139275\n",
      "================================================================\n",
      "SCORE Bagging with DecisionTreeClf : 1.0\n",
      "================================================================\n",
      "SCORE Bagging with RandomTreeForest : 1.0\n",
      "================================================================\n",
      "SCORE Bagging with GradientBoostingClassifier : 0.9832869080779945\n"
     ]
    }
   ],
   "source": [
    "for name, estimator in estimators.items():\n",
    "    bag_class = BaggingClassifier(base_estimator=estimator, n_estimators=50).fit(X_train, y_train)\n",
    "    bag_predict = bag_class.predict(X_test)\n",
    "    print('='*64)\n",
    "    print('SCORE Bagging with {} : {}'.format(name, accuracy_score(bag_predict, y_test)))"
   ]
  }
 ],
 "metadata": {
  "kernelspec": {
   "display_name": ".venv",
   "language": "python",
   "name": "python3"
  },
  "language_info": {
   "codemirror_mode": {
    "name": "ipython",
    "version": 3
   },
   "file_extension": ".py",
   "mimetype": "text/x-python",
   "name": "python",
   "nbconvert_exporter": "python",
   "pygments_lexer": "ipython3",
   "version": "3.11.3"
  }
 },
 "nbformat": 4,
 "nbformat_minor": 2
}
