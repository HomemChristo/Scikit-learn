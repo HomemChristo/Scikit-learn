{
 "cells": [
  {
   "cell_type": "code",
   "execution_count": 1,
   "metadata": {},
   "outputs": [],
   "source": [
    "import pandas as pd \n",
    "\n",
    "from sklearn.cluster import MeanShift "
   ]
  },
  {
   "cell_type": "code",
   "execution_count": 2,
   "metadata": {},
   "outputs": [
    {
     "name": "stdout",
     "output_type": "stream",
     "text": [
      "  competitorname  chocolate  fruity  caramel  peanutyalmondy  nougat  \\\n",
      "0      100 Grand          1       0        1               0       0   \n",
      "1   3 Musketeers          1       0        0               0       1   \n",
      "2       One dime          0       0        0               0       0   \n",
      "3    One quarter          0       0        0               0       0   \n",
      "4      Air Heads          0       1        0               0       0   \n",
      "\n",
      "   crispedricewafer  hard  bar  pluribus  sugarpercent  pricepercent  \\\n",
      "0                 1     0    1         0         0.732         0.860   \n",
      "1                 0     0    1         0         0.604         0.511   \n",
      "2                 0     0    0         0         0.011         0.116   \n",
      "3                 0     0    0         0         0.011         0.511   \n",
      "4                 0     0    0         0         0.906         0.511   \n",
      "\n",
      "   winpercent  \n",
      "0   66.971725  \n",
      "1   67.602936  \n",
      "2   32.261086  \n",
      "3   46.116505  \n",
      "4   52.341465  \n"
     ]
    }
   ],
   "source": [
    "# Cargamos el dataset \n",
    "dataset = pd.read_csv('./data/candy.csv') \n",
    "print(dataset.head(5))"
   ]
  },
  {
   "cell_type": "code",
   "execution_count": 3,
   "metadata": {},
   "outputs": [],
   "source": [
    "# Vamos a eliminar la columna\n",
    "X = dataset.drop('competitorname', axis=1)"
   ]
  },
  {
   "cell_type": "code",
   "execution_count": 6,
   "metadata": {},
   "outputs": [
    {
     "name": "stdout",
     "output_type": "stream",
     "text": [
      "2\n"
     ]
    }
   ],
   "source": [
    "meanshift = MeanShift().fit(X)\n",
    "# Aquí el algoritmo nos devolvio 3 clusters, porque le pareció que esa era la cantidad \n",
    "# correcta teniendo en cuenta como se distrubuye la densidad de nuestros datos \n",
    "print(max(meanshift.labels_))"
   ]
  },
  {
   "cell_type": "code",
   "execution_count": 7,
   "metadata": {},
   "outputs": [
    {
     "name": "stdout",
     "output_type": "stream",
     "text": [
      "[[2.25000000e-01 5.75000000e-01 1.00000000e-01 2.50000000e-02\n",
      "  5.00000000e-02 2.50000000e-02 3.00000000e-01 1.00000000e-01\n",
      "  5.50000000e-01 4.57599993e-01 3.67824996e-01 4.10442122e+01]\n",
      " [4.68750000e-01 5.00000000e-01 1.25000000e-01 1.56250000e-01\n",
      "  9.37500000e-02 6.25000000e-02 1.25000000e-01 3.12500000e-01\n",
      "  5.31250000e-01 4.57281243e-01 4.67874998e-01 5.21138597e+01]\n",
      " [8.26086957e-01 1.73913043e-01 3.04347826e-01 3.04347826e-01\n",
      "  1.73913043e-01 1.73913043e-01 0.00000000e+00 5.21739130e-01\n",
      "  4.34782609e-01 5.81391293e-01 6.38086963e-01 6.47120799e+01]]\n"
     ]
    }
   ],
   "source": [
    "# Imprimamos la ubicación de los centros que puso sobre nuestros datos. Hay que recordar que estos algoritmos \n",
    "# crean un centro y a partir de ahí se ajuztan a todos los datos que lo rodean  \n",
    "print(meanshift.cluster_centers_)"
   ]
  },
  {
   "cell_type": "code",
   "execution_count": 8,
   "metadata": {},
   "outputs": [
    {
     "name": "stdout",
     "output_type": "stream",
     "text": [
      "================================================================\n",
      "                competitorname  chocolate  fruity  caramel  peanutyalmondy  \\\n",
      "0                    100 Grand          1       0        1               0   \n",
      "1                 3 Musketeers          1       0        0               0   \n",
      "2                     One dime          0       0        0               0   \n",
      "3                  One quarter          0       0        0               0   \n",
      "4                    Air Heads          0       1        0               0   \n",
      "..                         ...        ...     ...      ...             ...   \n",
      "80                   Twizzlers          0       1        0               0   \n",
      "81                    Warheads          0       1        0               0   \n",
      "82        WelchÕs Fruit Snacks          0       1        0               0   \n",
      "83  WertherÕs Original Caramel          0       0        1               0   \n",
      "84                    Whoppers          1       0        0               0   \n",
      "\n",
      "    nougat  crispedricewafer  hard  bar  pluribus  sugarpercent  pricepercent  \\\n",
      "0        0                 1     0    1         0         0.732         0.860   \n",
      "1        1                 0     0    1         0         0.604         0.511   \n",
      "2        0                 0     0    0         0         0.011         0.116   \n",
      "3        0                 0     0    0         0         0.011         0.511   \n",
      "4        0                 0     0    0         0         0.906         0.511   \n",
      "..     ...               ...   ...  ...       ...           ...           ...   \n",
      "80       0                 0     0    0         0         0.220         0.116   \n",
      "81       0                 0     1    0         0         0.093         0.116   \n",
      "82       0                 0     0    0         1         0.313         0.313   \n",
      "83       0                 0     1    0         0         0.186         0.267   \n",
      "84       0                 1     0    0         1         0.872         0.848   \n",
      "\n",
      "    winpercent  meanshift  \n",
      "0    66.971725          2  \n",
      "1    67.602936          2  \n",
      "2    32.261086          0  \n",
      "3    46.116505          0  \n",
      "4    52.341465          1  \n",
      "..         ...        ...  \n",
      "80   45.466282          0  \n",
      "81   39.011898          0  \n",
      "82   44.375519          0  \n",
      "83   41.904308          0  \n",
      "84   49.524113          1  \n",
      "\n",
      "[85 rows x 14 columns]\n"
     ]
    }
   ],
   "source": [
    "# Los arreglos lo integramos a nuestros datasets \n",
    "dataset['meanshift'] = meanshift.labels_  \n",
    "print(\"=\"*64)\n",
    "print(dataset)"
   ]
  }
 ],
 "metadata": {
  "kernelspec": {
   "display_name": ".venv",
   "language": "python",
   "name": "python3"
  },
  "language_info": {
   "codemirror_mode": {
    "name": "ipython",
    "version": 3
   },
   "file_extension": ".py",
   "mimetype": "text/x-python",
   "name": "python",
   "nbconvert_exporter": "python",
   "pygments_lexer": "ipython3",
   "version": "3.11.3"
  }
 },
 "nbformat": 4,
 "nbformat_minor": 2
}
