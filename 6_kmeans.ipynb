{
 "cells": [
  {
   "cell_type": "code",
   "execution_count": 1,
   "metadata": {},
   "outputs": [
    {
     "ename": "ModuleNotFoundError",
     "evalue": "No module named 'seaborn'",
     "output_type": "error",
     "traceback": [
      "\u001b[1;31m---------------------------------------------------------------------------\u001b[0m",
      "\u001b[1;31mModuleNotFoundError\u001b[0m                       Traceback (most recent call last)",
      "Cell \u001b[1;32mIn[1], line 3\u001b[0m\n\u001b[0;32m      1\u001b[0m \u001b[38;5;28;01mimport\u001b[39;00m \u001b[38;5;21;01mpandas\u001b[39;00m \u001b[38;5;28;01mas\u001b[39;00m \u001b[38;5;21;01mpd\u001b[39;00m\n\u001b[1;32m----> 3\u001b[0m \u001b[38;5;28;01mimport\u001b[39;00m \u001b[38;5;21;01mseaborn\u001b[39;00m \u001b[38;5;28;01mas\u001b[39;00m \u001b[38;5;21;01msns\u001b[39;00m\n\u001b[0;32m      4\u001b[0m \u001b[38;5;28;01mfrom\u001b[39;00m \u001b[38;5;21;01msklearn\u001b[39;00m\u001b[38;5;21;01m.\u001b[39;00m\u001b[38;5;21;01mcluster\u001b[39;00m \u001b[38;5;28;01mimport\u001b[39;00m MiniBatchKMeans\n",
      "\u001b[1;31mModuleNotFoundError\u001b[0m: No module named 'seaborn'"
     ]
    }
   ],
   "source": [
    "import pandas as pd\n",
    "\n",
    "import seaborn as sns\n",
    "from sklearn.cluster import MiniBatchKMeans"
   ]
  },
  {
   "cell_type": "code",
   "execution_count": null,
   "metadata": {},
   "outputs": [
    {
     "name": "stdout",
     "output_type": "stream",
     "text": [
      "  competitorname  chocolate  fruity  caramel  peanutyalmondy  nougat  \\\n",
      "0      100 Grand          1       0        1               0       0   \n",
      "1   3 Musketeers          1       0        0               0       1   \n",
      "2       One dime          0       0        0               0       0   \n",
      "3    One quarter          0       0        0               0       0   \n",
      "4      Air Heads          0       1        0               0       0   \n",
      "\n",
      "   crispedricewafer  hard  bar  pluribus  sugarpercent  pricepercent  \\\n",
      "0                 1     0    1         0         0.732         0.860   \n",
      "1                 0     0    1         0         0.604         0.511   \n",
      "2                 0     0    0         0         0.011         0.116   \n",
      "3                 0     0    0         0         0.011         0.511   \n",
      "4                 0     0    0         0         0.906         0.511   \n",
      "\n",
      "   winpercent  \n",
      "0   66.971725  \n",
      "1   67.602936  \n",
      "2   32.261086  \n",
      "3   46.116505  \n",
      "4   52.341465  \n"
     ]
    }
   ],
   "source": [
    "path = './data/candy.csv'\n",
    "dataset = pd.read_csv(path)\n",
    "\n",
    "print(dataset.head(5))"
   ]
  },
  {
   "cell_type": "code",
   "execution_count": null,
   "metadata": {},
   "outputs": [],
   "source": []
  },
  {
   "cell_type": "code",
   "execution_count": null,
   "metadata": {},
   "outputs": [
    {
     "name": "stderr",
     "output_type": "stream",
     "text": [
      "c:\\Users\\Jhoan\\Documents\\Cursos\\Platzi\\Data Science\\Scikit-learn\\.venv\\Lib\\site-packages\\sklearn\\cluster\\_kmeans.py:1934: FutureWarning: The default value of `n_init` will change from 3 to 'auto' in 1.4. Set the value of `n_init` explicitly to suppress the warning\n",
      "  super()._check_params_vs_input(X, default_n_init=3)\n"
     ]
    }
   ],
   "source": [
    "x = dataset.drop('competitorname', axis=1)\n",
    "kmeans = MiniBatchKMeans(n_clusters=4, batch_size=8).fit(x)"
   ]
  },
  {
   "cell_type": "code",
   "execution_count": null,
   "metadata": {},
   "outputs": [
    {
     "name": "stdout",
     "output_type": "stream",
     "text": [
      "Total de centros: 4\n"
     ]
    }
   ],
   "source": [
    "print('Total de centros:', len(kmeans.cluster_centers_))"
   ]
  },
  {
   "cell_type": "code",
   "execution_count": null,
   "metadata": {},
   "outputs": [
    {
     "name": "stdout",
     "output_type": "stream",
     "text": [
      "Predicciones: [1 1 3 0 0 0 0 3 3 3 3 3 3 3 3 0 3 0 0 3 0 3 0 1 0 1 3 0 2 3 3 0 1 1 0 0 1\n",
      " 1 1 0 0 0 1 1 3 3 0 1 3 3 3 2 2 1 1 3 1 3 0 3 1 0 3 0 2 1 1 0 1 3 3 3 3 0\n",
      " 0 0 0 0 0 2 0 3 0 3 0]\n"
     ]
    }
   ],
   "source": [
    "print('Predicciones:', kmeans.predict(x))"
   ]
  },
  {
   "cell_type": "code",
   "execution_count": null,
   "metadata": {},
   "outputs": [
    {
     "name": "stdout",
     "output_type": "stream",
     "text": [
      "                competitorname  chocolate  fruity  caramel  peanutyalmondy  \\\n",
      "0                    100 Grand          1       0        1               0   \n",
      "1                 3 Musketeers          1       0        0               0   \n",
      "2                     One dime          0       0        0               0   \n",
      "3                  One quarter          0       0        0               0   \n",
      "4                    Air Heads          0       1        0               0   \n",
      "..                         ...        ...     ...      ...             ...   \n",
      "80                   Twizzlers          0       1        0               0   \n",
      "81                    Warheads          0       1        0               0   \n",
      "82        WelchÕs Fruit Snacks          0       1        0               0   \n",
      "83  WertherÕs Original Caramel          0       0        1               0   \n",
      "84                    Whoppers          1       0        0               0   \n",
      "\n",
      "    nougat  crispedricewafer  hard  bar  pluribus  sugarpercent  pricepercent  \\\n",
      "0        0                 1     0    1         0         0.732         0.860   \n",
      "1        1                 0     0    1         0         0.604         0.511   \n",
      "2        0                 0     0    0         0         0.011         0.116   \n",
      "3        0                 0     0    0         0         0.011         0.511   \n",
      "4        0                 0     0    0         0         0.906         0.511   \n",
      "..     ...               ...   ...  ...       ...           ...           ...   \n",
      "80       0                 0     0    0         0         0.220         0.116   \n",
      "81       0                 0     1    0         0         0.093         0.116   \n",
      "82       0                 0     0    0         1         0.313         0.313   \n",
      "83       0                 0     1    0         0         0.186         0.267   \n",
      "84       0                 1     0    0         1         0.872         0.848   \n",
      "\n",
      "    winpercent  Grupo  \n",
      "0    66.971725      1  \n",
      "1    67.602936      1  \n",
      "2    32.261086      3  \n",
      "3    46.116505      0  \n",
      "4    52.341465      0  \n",
      "..         ...    ...  \n",
      "80   45.466282      0  \n",
      "81   39.011898      3  \n",
      "82   44.375519      0  \n",
      "83   41.904308      3  \n",
      "84   49.524113      0  \n",
      "\n",
      "[85 rows x 14 columns]\n"
     ]
    }
   ],
   "source": [
    "dataset['Grupo'] = kmeans.predict(x)\n",
    "print(dataset)"
   ]
  },
  {
   "cell_type": "code",
   "execution_count": 2,
   "metadata": {},
   "outputs": [
    {
     "ename": "NameError",
     "evalue": "name 'sns' is not defined",
     "output_type": "error",
     "traceback": [
      "\u001b[1;31m---------------------------------------------------------------------------\u001b[0m",
      "\u001b[1;31mNameError\u001b[0m                                 Traceback (most recent call last)",
      "Cell \u001b[1;32mIn[2], line 1\u001b[0m\n\u001b[1;32m----> 1\u001b[0m \u001b[43msns\u001b[49m\u001b[38;5;241m.\u001b[39mpairplot(dataset[[\u001b[38;5;124m'\u001b[39m\u001b[38;5;124msugarpercent\u001b[39m\u001b[38;5;124m'\u001b[39m,\u001b[38;5;124m'\u001b[39m\u001b[38;5;124mpricepercent\u001b[39m\u001b[38;5;124m'\u001b[39m,\u001b[38;5;124m'\u001b[39m\u001b[38;5;124mwinpercent\u001b[39m\u001b[38;5;124m'\u001b[39m,\u001b[38;5;124m'\u001b[39m\u001b[38;5;124mgroup\u001b[39m\u001b[38;5;124m'\u001b[39m]], hue \u001b[38;5;241m=\u001b[39m \u001b[38;5;124m'\u001b[39m\u001b[38;5;124mgroup\u001b[39m\u001b[38;5;124m'\u001b[39m)\n",
      "\u001b[1;31mNameError\u001b[0m: name 'sns' is not defined"
     ]
    }
   ],
   "source": [
    "sns.pairplot(dataset[['sugarpercent','pricepercent','winpercent','group']], hue = 'group')"
   ]
  },
  {
   "cell_type": "code",
   "execution_count": null,
   "metadata": {},
   "outputs": [],
   "source": []
  }
 ],
 "metadata": {
  "kernelspec": {
   "display_name": ".venv",
   "language": "python",
   "name": "python3"
  },
  "language_info": {
   "codemirror_mode": {
    "name": "ipython",
    "version": 3
   },
   "file_extension": ".py",
   "mimetype": "text/x-python",
   "name": "python",
   "nbconvert_exporter": "python",
   "pygments_lexer": "ipython3",
   "version": "3.11.3"
  }
 },
 "nbformat": 4,
 "nbformat_minor": 2
}
